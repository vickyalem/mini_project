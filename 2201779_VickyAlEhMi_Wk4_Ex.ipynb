{
 "cells": [
  {
   "cell_type": "markdown",
   "id": "a5b572ae-a531-4fde-a5b8-ee925f87d77f",
   "metadata": {},
   "source": [
    "1. Create a random noise color and grayscale image. You can set your own width and height, but keep the total number of pixels of both images identical."
   ]
  },
  {
   "cell_type": "code",
   "execution_count": 30,
   "id": "2dfc55d5-6886-46b8-b5cc-35cb6737c5e9",
   "metadata": {},
   "outputs": [],
   "source": [
    "import numpy as np\n",
    "import cv2\n",
    "\n",
    "def generate_noise_images(width, height):\n",
    "    # Color noise (RGB)\n",
    "    color_noise = np.random.randint(0, 256, (height, width, 3), dtype=np.uint8)\n",
    "\n",
    "    # Grayscale noise\n",
    "    grayscale_noise = np.random.randint(0, 256, (height, width), dtype=np.uint8)\n",
    "\n",
    "    return color_noise, grayscale_noise\n",
    "\n",
    "width, height = 512, 512 \n",
    "color_img, grayscale_img = generate_noise_images(width, height)\n",
    "\n",
    "cv2.imshow('Color Noise', color_img)\n",
    "cv2.imshow('Grayscale Noise', grayscale_img)\n",
    "cv2.waitKey(0)\n",
    "cv2.destroyAllWindows()\n"
   ]
  },
  {
   "cell_type": "markdown",
   "id": "ea1e6bbf-d0aa-4cb0-a783-02902399ccf4",
   "metadata": {},
   "source": [
    "2. Convert the code chunk found under section Divide an image into smaller patches using cropping into a function with the following signature:\n",
    "crop_grid(img, num_horizontal_grid, num_vertical_grid, line_color)\n",
    "```python\n",
    " # img is the source image\n",
    " # num_horizontal_grid and num_vertical_grid are the number of patches along x and y axes.\n",
    " # line_color is the color of the grid line.\n",
    " # The output of the function should be image with grids\n",
    "```"
   ]
  },
  {
   "cell_type": "code",
   "execution_count": 31,
   "id": "2dfaa585-266e-4af2-ba85-57bf91e2265f",
   "metadata": {},
   "outputs": [],
   "source": [
    "def crop_grid(img, num_horizontal_grid, num_vertical_grid, line_color):\n",
    "    \n",
    "    img_copy = img.copy()\n",
    "    height, width = img.shape[:2]\n",
    "\n",
    "    M, N = int(height / num_vertical_patches), int(width / num_horizontal_patches)\n",
    "\n",
    "    for y in range(0, height, M):\n",
    "        for x in range(0, width, N):\n",
    "            y1 = min(y + M, height - 1)  \n",
    "            x1 = min(x + N, width - 1)\n",
    "\n",
    "            cv2.rectangle(img_copy, (x, y), (x1, y1), line_color, 1)\n",
    "\n",
    "    cv.imshow('patched image', img_copy)\n",
    "    cv.waitKey(0)\n",
    "    cv.destroyAllWindows()"
   ]
  },
  {
   "cell_type": "markdown",
   "id": "a8453ee5-dc30-4871-9fb0-fd1a53664b0b",
   "metadata": {},
   "source": [
    "3. How would you change the brightness of a color image? Suggest two ways to perform the image processing operations. Implement your methods by providing the example codes. You are free to choose any image."
   ]
  },
  {
   "cell_type": "code",
   "execution_count": 32,
   "id": "846039dc-e4f8-4fc4-b1e5-92c422971087",
   "metadata": {},
   "outputs": [],
   "source": [
    "#method1: convert to hsv color space and modify the value channel\n",
    "img = cv.imread('images/dog.jfif')\n",
    "\n",
    "hsv = cv2.cvtColor(img, cv2.COLOR_BGR2HSV)\n",
    "h,s,v = cv2.split(hsv)\n",
    "\n",
    "v = cv2.add(v, 100)\n",
    "\n",
    "brightened_img = cv2.cvtColor(cv2.merge((h,s,v)), cv2.COLOR_HSV2BGR)\n",
    "\n",
    "cv.imshow('original', img)\n",
    "cv.imshow('brightened image', brightened_img)\n",
    "cv.waitKey(0)\n",
    "cv.destroyAllWindows()"
   ]
  },
  {
   "cell_type": "code",
   "execution_count": 33,
   "id": "601eb30b-7dab-473f-ac31-0d875445de07",
   "metadata": {},
   "outputs": [],
   "source": [
    "#method2: convert to yuv color space and modify the Y (luminance) channel\n",
    "img = cv2.imread('images/lena.jfif')\n",
    "\n",
    "yuv = cv2.cvtColor(img, cv2.COLOR_BGR2YUV)\n",
    "y, u, v = cv2.split(yuv)\n",
    "\n",
    "y = cv2.add(y, 50)\n",
    "\n",
    "brightened_img = cv2.cvtColor(cv2.merge([y, u, v]), cv2.COLOR_YUV2BGR)\n",
    "\n",
    "cv2.imshow('original', img)\n",
    "cv2.imshow('Brightened Image', brightened_img)\n",
    "cv2.waitKey(0)\n",
    "cv2.destroyAllWindows()\n"
   ]
  },
  {
   "cell_type": "markdown",
   "id": "8a46e0a8-c167-4ce3-bd90-1dd3e0e275d2",
   "metadata": {},
   "source": [
    "4. Provide at least one common use case(s) for the following color spaces:\n",
    "- RGB\n",
    "- HSV\n",
    "- CIELAB"
   ]
  },
  {
   "cell_type": "code",
   "execution_count": 34,
   "id": "0b95b991-0960-4271-90d9-c7c003f26e05",
   "metadata": {},
   "outputs": [],
   "source": [
    "#RGB: used in display devices like monitors, cameras, etc.\n",
    "#HSV: change the brightness of a colored image\n",
    "#CIELAB: color correction "
   ]
  }
 ],
 "metadata": {
  "kernelspec": {
   "display_name": "Python 3 (ipykernel)",
   "language": "python",
   "name": "python3"
  },
  "language_info": {
   "codemirror_mode": {
    "name": "ipython",
    "version": 3
   },
   "file_extension": ".py",
   "mimetype": "text/x-python",
   "name": "python",
   "nbconvert_exporter": "python",
   "pygments_lexer": "ipython3",
   "version": "3.12.1"
  }
 },
 "nbformat": 4,
 "nbformat_minor": 5
}
