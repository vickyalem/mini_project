{
 "cells": [
  {
   "cell_type": "markdown",
   "id": "e0b8af36-f028-4578-aa04-0c924912e6cb",
   "metadata": {},
   "source": [
    "1. Load and display the image 'dog.jfif'. Save the image in png format."
   ]
  },
  {
   "cell_type": "code",
   "execution_count": 1,
   "id": "37e72f11-2959-4417-9861-778c8e062134",
   "metadata": {},
   "outputs": [
    {
     "data": {
      "text/plain": [
       "True"
      ]
     },
     "execution_count": 1,
     "metadata": {},
     "output_type": "execute_result"
    }
   ],
   "source": [
    "import cv2 as cv\n",
    "\n",
    "img = cv.imread('images/dog.jfif')\n",
    "\n",
    "cv.imshow('Image', img)\n",
    "cv.waitKey(0)\n",
    "cv.destroyAllWindows()\n",
    "\n",
    "cv.imwrite('dog.png', img)"
   ]
  },
  {
   "cell_type": "markdown",
   "id": "7d33b1de-4954-4f6d-8f57-0b0751d16817",
   "metadata": {},
   "source": [
    "2. Suggest 2 ways and write codes to display 2 images simultaneously. You can use any image snapped from your handphone, downloaded from internet or images from weekly materials on MS teams. The 2 images are original color image and its corresponding grayscale image."
   ]
  },
  {
   "cell_type": "code",
   "execution_count": 2,
   "id": "6a2eee90-98cd-4575-a985-d22801d1a866",
   "metadata": {},
   "outputs": [],
   "source": [
    "#method 1\n",
    "img_color = cv.imread('images/dog.jfif')\n",
    "img_gray = cv.imread('images/dog.jfif', 0)\n",
    "\n",
    "cv.imshow('Original Color Image', img_color)\n",
    "cv.imshow('Grayscale Image', img_gray)\n",
    "\n",
    "cv.waitKey(0)\n",
    "cv.destroyAllWindows()"
   ]
  },
  {
   "cell_type": "code",
   "execution_count": 3,
   "id": "5c5678d0-69a2-4c33-b99f-51a413306e5e",
   "metadata": {},
   "outputs": [],
   "source": [
    "#Method 2\n",
    "img_color = cv.imread('images/dog.jfif')\n",
    "img_gray = cv.imread('images/dog.jfif', 0)\n",
    "\n",
    "img_gray_3ch = cv.cvtColor(img_gray, cv.COLOR_GRAY2BGR)\n",
    "\n",
    "img_concat = cv.hconcat([img_color, img_gray_3ch])\n",
    "\n",
    "cv.imshow('Original Color and Grayscale Images', img_concat)\n",
    "\n",
    "cv.waitKey(0)\n",
    "cv.destroyAllWindows()"
   ]
  },
  {
   "cell_type": "markdown",
   "id": "22e5fef8-c788-4722-ab6c-ad463b3806d9",
   "metadata": {},
   "source": [
    "3. Write codes that performs the following:\n",
    "Load the video “img_pexels.mp4” into the Python environment, resize it and display the videos with smaller frames (The frames can be of any size, as long as it is smaller). You can specify an arbitrary frame rate.\n",
    "Save it as a separate files: “smaller_img_pexels.avi” or \"smaller_img_pexels.mp4\""
   ]
  },
  {
   "cell_type": "code",
   "execution_count": 4,
   "id": "0ab65635-10ad-4da1-a495-f1bc86cb54a7",
   "metadata": {},
   "outputs": [],
   "source": [
    "cap = cv.VideoCapture('videos/img_pexels.mp4')\n",
    "\n",
    "new_width = int(cap.get(3)/3.8)\n",
    "new_height = int(cap.get(4)/7.4)\n",
    "\n",
    "fourcc = cv.VideoWriter_fourcc('M', 'J', 'P', 'G')\n",
    "out = cv.VideoWriter('smaller_img_pexels.avi', fourcc, 20.0, (new_width, new_height))\n",
    "\n",
    "while cap.isOpened():\n",
    "    ret, frame = cap.read()\n",
    "    if not ret:\n",
    "        break\n",
    "\n",
    "    smaller_frame = cv.resize(frame, (new_width, new_height))\n",
    "\n",
    "    out.write(smaller_frame)\n",
    "\n",
    "    cv.imshow('Smaller Frame', smaller_frame)\n",
    "    \n",
    "    if cv.waitKey(1) & 0xFF == 27:\n",
    "        break\n",
    "\n",
    "cap.release()\n",
    "out.release()\n",
    "cv.destroyAllWindows()\n"
   ]
  },
  {
   "cell_type": "markdown",
   "id": "f3af1e84-547a-44e1-81b8-2ba1115279ca",
   "metadata": {},
   "source": [
    "4. Enlarge the image \"dog.jfif\" by using different techniques:\n",
    "    \n",
    "   A. Linear interpolation\n",
    "\n",
    "   B. Cubic interpolation\n",
    "\n",
    "   C. Nearest neighbor interpolation.\n",
    "Upscale the images by 4 times on its respective dimensions. Perform profiling on each method. Comment on the execution times and quality of resulting images."
   ]
  },
  {
   "cell_type": "code",
   "execution_count": 14,
   "id": "a3b07cc8-5cfc-40c4-a4da-1226d103f433",
   "metadata": {},
   "outputs": [
    {
     "name": "stdout",
     "output_type": "stream",
     "text": [
      "Method: Linear Interpolation\n",
      "Execution Time: 0.0065021514892578125 seconds\n",
      "\n",
      "Method: Cubic Interpolation\n",
      "Execution Time: 0.011114120483398438 seconds\n",
      "\n",
      "Method: Nearest Neighbor Interpolation\n",
      "Execution Time: 0.003238201141357422 seconds\n",
      "\n"
     ]
    }
   ],
   "source": [
    "import time\n",
    "\n",
    "img = cv.imread('images/dog.jfif')\n",
    "\n",
    "interpolation_methods = [\n",
    "    (cv.INTER_LINEAR, \"Linear Interpolation\"),\n",
    "    (cv.INTER_CUBIC, \"Cubic Interpolation\"),\n",
    "    (cv.INTER_NEAREST, \"Nearest Neighbor Interpolation\")\n",
    "]\n",
    "\n",
    "for interpolation, method_name in interpolation_methods:\n",
    "    start_time = time.time()\n",
    "    img_resize = cv.resize(img, None, fx=4, fy=4, interpolation=interpolation)\n",
    "    end_time = time.time()\n",
    "    execution_time = end_time - start_time\n",
    "    \n",
    "    print(f\"Method: {method_name}\")\n",
    "    print(f\"Execution Time: {execution_time} seconds\")\n",
    "    print()\n",
    "\n",
    "    cv.imshow('Upscaled image', img_resize)\n",
    "    cv.waitKey(0)\n",
    "    cv.destroyAllWindows()"
   ]
  },
  {
   "cell_type": "markdown",
   "id": "f0b7707b-20bc-4d20-b62c-d5bb9bb09357",
   "metadata": {},
   "source": [
    "Method: Linear Interpolation\n",
    "- Time taken for execution is between cubic interpolation and nearest neighbor interpolation\n",
    "- Image quality is smoother than what is produced by nearest neighbor interpolation\n",
    "\n",
    "Method: Cubic Interpolation\n",
    "- Takes the longest time for execution\n",
    "- Quality is comparable to linear interpolation\n",
    "\n",
    "Method: Nearest Neighbor Interpolation\n",
    "- Fastest execution\n",
    "- Produced a pixelated image"
   ]
  }
 ],
 "metadata": {
  "kernelspec": {
   "display_name": "Python 3 (ipykernel)",
   "language": "python",
   "name": "python3"
  },
  "language_info": {
   "codemirror_mode": {
    "name": "ipython",
    "version": 3
   },
   "file_extension": ".py",
   "mimetype": "text/x-python",
   "name": "python",
   "nbconvert_exporter": "python",
   "pygments_lexer": "ipython3",
   "version": "3.12.1"
  }
 },
 "nbformat": 4,
 "nbformat_minor": 5
}
