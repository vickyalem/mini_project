{
 "cells": [
  {
   "cell_type": "code",
   "execution_count": 1,
   "id": "bc4bb200-17f8-4526-adae-a902905b339c",
   "metadata": {},
   "outputs": [],
   "source": [
    "import cv2 as cv\n",
    "import numpy as np\n",
    "from utils import display_images, display_image"
   ]
  },
  {
   "cell_type": "markdown",
   "id": "c88c75dc-9614-4c3f-bff2-2bdf315e293c",
   "metadata": {},
   "source": [
    "1. Apply custom sharpening kernel of aperture size 3 and 5 as shown below on 'native-bee.png':  \n",
    "$ 3 \\times 3$ kernel:  \n",
    "$ \\begin{bmatrix}\n",
    "0 & -1 & 0 \\\\\n",
    "-1 & 5 & -1 \\\\\n",
    "0 & -1 & 0\\\\\n",
    "\\end{bmatrix}$  \n",
    "$ 5 \\times 5$ kernel:  \n",
    "$ \\begin{bmatrix}\n",
    "-1 & -1 & -1 & -1 & -1 \\\\\n",
    "-1 & -1 & -1 & -1 & -1 \\\\\n",
    "-1 & -1 & 25 & -1 & -1 \\\\\n",
    "-1 & -1 & -1 & -1 & -1 \\\\\n",
    "-1 & -1 & -1 & -1 & -1 \\\\\n",
    "\\end{bmatrix}$  \n",
    "What can you infer from the outputs?"
   ]
  },
  {
   "cell_type": "code",
   "execution_count": 2,
   "id": "a92f5330-a6f1-4306-b886-ffee9df9149b",
   "metadata": {},
   "outputs": [],
   "source": [
    "img = cv.imread(\"images/native-bee.png\")\n",
    "\n",
    "kernel = np.array([[0,-1,0],\n",
    "                   [-1,5,-1],\n",
    "                   [0,-1,0]])\n",
    "\n",
    "dst = cv.filter2D(img, -1, kernel)\n",
    "\n",
    "display_images([img,dst], (\"original\", \"res\"))"
   ]
  },
  {
   "cell_type": "code",
   "execution_count": 3,
   "id": "232bd976-688b-41d7-835c-50369a892950",
   "metadata": {},
   "outputs": [],
   "source": [
    "kernel = np.array([[-1,-1,-1,-1,-1],\n",
    "                   [-1,-1,-1,-1,-1],\n",
    "                   [-1,-1,25,-1,-1],\n",
    "                   [-1,-1,-1,-1,-1],\n",
    "                   [-1,-1,-1,-1,-1]])\n",
    "\n",
    "dst = cv.filter2D(img, -1, kernel)\n",
    "\n",
    "display_images([img,dst], (\"original\", \"res\"))"
   ]
  },
  {
   "cell_type": "markdown",
   "id": "d580129f-c2ec-4e38-b9f9-fab2825c6446",
   "metadata": {},
   "source": [
    "The sharpening effect from the 5x5 kernel is way aggressive compared to the 3x3 kernel (which results in a moderate sharpening effect)"
   ]
  },
  {
   "cell_type": "markdown",
   "id": "37716cb1-da7b-453b-9fc5-2c1d8f0eecf9",
   "metadata": {},
   "source": [
    "2. Apply different image smoothing techniques (e.g. average filter, Gaussian kernel and median filter) on 'noise_lena.jpg' and display the resulting images after the convolution. Comment on the outcomes and deduce the type of noise present on the image."
   ]
  },
  {
   "cell_type": "code",
   "execution_count": 4,
   "id": "9bd07512-c0a9-4fbe-bf79-88894f75561c",
   "metadata": {},
   "outputs": [],
   "source": [
    "img = cv.imread(\"images/noise_lena.jpg\")\n",
    "\n",
    "# Average Filter\n",
    "blur = cv.blur(img, (5, 5))\n",
    "\n",
    "# Gaussian Filter\n",
    "gaussian = cv.GaussianBlur(img, (5, 5), 0)\n",
    "\n",
    "# Median Filter\n",
    "median = cv.medianBlur(img, 5)\n",
    "\n",
    "display_images([img, blur, gaussian, median], (\"original\", \"blur\", \"guassian\", \"median\"))"
   ]
  },
  {
   "cell_type": "markdown",
   "id": "827d72d5-4d88-47d6-9715-87f792b05749",
   "metadata": {},
   "source": [
    "The type of noise present on the image is salt and pepper noise. From the result, median filter seemed to remove the noise while the other two filter just blurred the image"
   ]
  },
  {
   "cell_type": "markdown",
   "id": "ebafd0d0-8bfc-463a-ba1f-4dbb61c72203",
   "metadata": {},
   "source": [
    "3. Write a program to *segment the boat and the people on it from the background*. Follow the instruction below:\n",
    "    - Use 'boat.jpg' as input.\n",
    "    - Apply Otsu thresholding.\n",
    "    - Draw bounding box to identify the region where the boat and people are located."
   ]
  },
  {
   "cell_type": "code",
   "execution_count": 5,
   "id": "dbf4814f-6979-45f6-953d-78d79bf6a261",
   "metadata": {},
   "outputs": [],
   "source": [
    "img = cv.imread('images/boat.jpg')\n",
    "gray = cv.cvtColor(img, cv.COLOR_BGR2GRAY)\n",
    "\n",
    "# Otsu thresholding\n",
    "th = cv.threshold(gray, 0, 255, cv.THRESH_BINARY | cv.THRESH_OTSU)[1]\n",
    "th = cv.bitwise_not(th)\n",
    "\n",
    "# Contours\n",
    "contours, _ = cv.findContours(th, cv.RETR_EXTERNAL, cv.CHAIN_APPROX_SIMPLE)\n",
    "\n",
    "img_copy = img.copy()\n",
    "height, width = img.shape[:2]\n",
    "\n",
    "for contour in contours:\n",
    "    x, y, w, h = cv.boundingRect(contour)\n",
    "    if w * h > 500 and x > 0 and y > 0 and x + w < width and y + h < height:\n",
    "        cv.rectangle(img_copy, (x, y), (x + w, y + h), (0, 255, 0), 2)\n",
    "\n",
    "display_images([img, img_copy], (\"original\", \"box\"))"
   ]
  }
 ],
 "metadata": {
  "kernelspec": {
   "display_name": "Python 3 (ipykernel)",
   "language": "python",
   "name": "python3"
  },
  "language_info": {
   "codemirror_mode": {
    "name": "ipython",
    "version": 3
   },
   "file_extension": ".py",
   "mimetype": "text/x-python",
   "name": "python",
   "nbconvert_exporter": "python",
   "pygments_lexer": "ipython3",
   "version": "3.12.1"
  }
 },
 "nbformat": 4,
 "nbformat_minor": 5
}
