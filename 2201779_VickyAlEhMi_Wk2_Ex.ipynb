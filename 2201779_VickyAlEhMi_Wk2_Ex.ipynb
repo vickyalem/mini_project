{
 "cells": [
  {
   "cell_type": "markdown",
   "id": "e0a0946e-e0cc-4ad1-8a22-d22a0abbb7b5",
   "metadata": {},
   "source": [
    "1. Find the range of values for each of the following data types:\n",
    "- uint8\n",
    "- int8\n",
    "- uint32\n",
    "- int32"
   ]
  },
  {
   "cell_type": "code",
   "execution_count": 1,
   "id": "62bebb88-5470-4aae-8b82-4dfa5e8b6084",
   "metadata": {},
   "outputs": [
    {
     "name": "stdout",
     "output_type": "stream",
     "text": [
      "Range for uint8: 0 to 255\n",
      "Range for int8: -128 to 127\n",
      "Range for uint32: 0 to 4294967295\n",
      "Range for int32: -2147483648 to 2147483647\n"
     ]
    }
   ],
   "source": [
    "import numpy as np\n",
    "\n",
    "print(\"Range for uint8:\", np.iinfo(np.uint8).min, \"to\", np.iinfo(np.uint8).max)\n",
    "print(\"Range for int8:\", np.iinfo(np.int8).min, \"to\", np.iinfo(np.int8).max)\n",
    "print(\"Range for uint32:\", np.iinfo(np.uint32).min, \"to\", np.iinfo(np.uint32).max)\n",
    "print(\"Range for int32:\", np.iinfo(np.int32).min, \"to\", np.iinfo(np.int32).max)"
   ]
  },
  {
   "cell_type": "markdown",
   "id": "7cc0c167-e6f5-41c5-90c8-94d472a9823e",
   "metadata": {},
   "source": [
    "2. Try to write a simple custom function to determine whether a given integer is odd or even number."
   ]
  },
  {
   "cell_type": "code",
   "execution_count": 2,
   "id": "a15ce85d-bf7f-4ca4-913d-2354df47b632",
   "metadata": {},
   "outputs": [],
   "source": [
    "def isOdd(num):\n",
    "    \"\"\"\n",
    "    This function takes an argument num, and checks if it is an integer.\n",
    "    If not, it will print a message and return.\n",
    "    If it is an integer, it will proceed to check if it is an odd or even number.\n",
    "    And lastly print out the result.\n",
    "    \"\"\"\n",
    "    if type(num) != int:\n",
    "        print(\"Please enter an integer.\") \n",
    "        return\n",
    "    else:\n",
    "        print(\"This is an odd number.\") if num%2 != 0 else print(\"This is an even number.\")"
   ]
  },
  {
   "cell_type": "markdown",
   "id": "88106eee-186d-47cf-918a-c0f8bf1cb49b",
   "metadata": {},
   "source": [
    "3. Write a simple example code to show that Numpy is more efficient in numerical computation of large arrays of data than equivalent Python list."
   ]
  },
  {
   "cell_type": "code",
   "execution_count": 3,
   "id": "5f52c56e-8218-4e23-bd5f-86a9f1393ebc",
   "metadata": {},
   "outputs": [
    {
     "name": "stdout",
     "output_type": "stream",
     "text": [
      "Time taken for Python list: 0.08993053436279297s\n",
      "Time taken for NumPy array: 0.0019676685333251953s\n"
     ]
    }
   ],
   "source": [
    "import time\n",
    "list_size = 1000000\n",
    "python_list = [i for i in range(list_size)]\n",
    "numpy_array = np.arange(list_size)\n",
    "\n",
    "start = time.time()\n",
    "squared_list = [i ** 2 for i in python_list]\n",
    "end = time.time()\n",
    "print(f\"Time taken for Python list: {end - start}s\")\n",
    "\n",
    "start = time.time()\n",
    "squared_array = numpy_array ** 2\n",
    "end = time.time()\n",
    "print(f\"Time taken for NumPy array: {end - start}s\")"
   ]
  },
  {
   "cell_type": "markdown",
   "id": "608e2206-0d38-4b36-8fc8-a6d48771742e",
   "metadata": {},
   "source": [
    "4. Run the following codes:\n",
    "```python\n",
    "# create a 1D array\n",
    "    my_arr = np.arange(10)\n",
    "    print(\"Initial my_arr: \", my_arr)\n",
    "    arr_slice = my_arr\n",
    "    print(\"Initial arr_slice: \", arr_slice)\n",
    "\n",
    "    # change the first element of arr_slice\n",
    "    arr_slice[0] = 55\n",
    "\n",
    "    print(\"my_arr: \", my_arr)\n",
    "    print(\"arr_slice: \", arr_slice)\n",
    "```\n",
    "What do you notice? Propose a way to reassign arr_slice with new value without modifying my_arr."
   ]
  },
  {
   "cell_type": "code",
   "execution_count": 4,
   "id": "c4d2d4d8-45f1-430f-a348-158be7cb4517",
   "metadata": {},
   "outputs": [
    {
     "name": "stdout",
     "output_type": "stream",
     "text": [
      "Initial my_arr:  [0 1 2 3 4 5 6 7 8 9]\n",
      "Initial arr_slice:  [0 1 2 3 4 5 6 7 8 9]\n",
      "my_arr:  [0 1 2 3 4 5 6 7 8 9]\n",
      "arr_slice:  [55  1  2  3  4  5  6  7  8  9]\n"
     ]
    }
   ],
   "source": [
    "\"\"\"\n",
    "The above code also modified my_arr. \n",
    "This is because arr_slice is not a copy of my_arr, but rather a reference to the same array.\n",
    "To solve this issue, we can use the .copy() method to create a new copy, instead of referencing the same array.\n",
    "\"\"\"\n",
    "\n",
    "# create a 1D array\n",
    "my_arr = np.arange(10)\n",
    "print(\"Initial my_arr: \", my_arr)\n",
    "arr_slice = my_arr.copy() # use .copy()\n",
    "print(\"Initial arr_slice: \", arr_slice)\n",
    "\n",
    "# change the first element of arr_slice\n",
    "arr_slice[0] = 55\n",
    "\n",
    "print(\"my_arr: \", my_arr)\n",
    "print(\"arr_slice: \", arr_slice)"
   ]
  },
  {
   "attachments": {
    "ec30608d-6ba3-40ba-a5ff-66664d6d5839.png": {
     "image/png": "[encoded data removed]"
    }
   },
   "cell_type": "markdown",
   "id": "ff9f20ad-54fd-477e-85eb-14c14decd03e",
   "metadata": {},
   "source": [
    "5. Create an image as shown as the following with the help of Numpy and matplotlib modules. You can arbitrarily set the dimension of the image and white circular spot at the middle.\n",
    "\n",
    "![image.png](attachment:ec30608d-6ba3-40ba-a5ff-66664d6d5839.png)"
   ]
  },
  {
   "cell_type": "code",
   "execution_count": 5,
   "id": "c364202c-80ae-42f9-9317-da58ce3dd082",
   "metadata": {},
   "outputs": [
    {
     "data": {
      "image/png": "[encoded data removed]",
      "text/plain": [
       "<Figure size 640x480 with 1 Axes>"
      ]
     },
     "metadata": {},
     "output_type": "display_data"
    }
   ],
   "source": [
    "import matplotlib.pyplot as plt\n",
    "\n",
    "# Set the image dimensions\n",
    "image_size = 256\n",
    "\n",
    "# Create a black image\n",
    "image = np.zeros((image_size, image_size), dtype=\"uint8\")\n",
    "\n",
    "# Set the radius of the white spot\n",
    "spot_radius = 26\n",
    "\n",
    "# Calculate the center coordinates\n",
    "center_x, center_y = image_size // 2, image_size // 2\n",
    "\n",
    "# Plot the white spot\n",
    "for x in range(image_size):\n",
    "    for y in range(image_size):\n",
    "        distance_from_center = np.sqrt((x - center_x) ** 2 + (y - center_y) ** 2)\n",
    "        if distance_from_center <= spot_radius:\n",
    "            image[y, x] = 255\n",
    "\n",
    "plt.imshow(image, cmap='gray')\n",
    "plt.axis('off')\n",
    "plt.show()"
   ]
  }
 ],
 "metadata": {
  "kernelspec": {
   "display_name": "Python 3 (ipykernel)",
   "language": "python",
   "name": "python3"
  },
  "language_info": {
   "codemirror_mode": {
    "name": "ipython",
    "version": 3
   },
   "file_extension": ".py",
   "mimetype": "text/x-python",
   "name": "python",
   "nbconvert_exporter": "python",
   "pygments_lexer": "ipython3",
   "version": "3.12.1"
  }
 },
 "nbformat": 4,
 "nbformat_minor": 5
}
